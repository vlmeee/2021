{
 "cells": [
  {
   "cell_type": "code",
   "execution_count": 2,
   "metadata": {},
   "outputs": [],
   "source": [
    "import pandas as pd\n",
    "import numpy as np\n",
    "import seaborn\n",
    "seaborn.set()"
   ]
  },
  {
   "cell_type": "code",
   "execution_count": 3,
   "metadata": {},
   "outputs": [
    {
     "data": {
      "text/html": [
       "<div>\n",
       "<style scoped>\n",
       "    .dataframe tbody tr th:only-of-type {\n",
       "        vertical-align: middle;\n",
       "    }\n",
       "\n",
       "    .dataframe tbody tr th {\n",
       "        vertical-align: top;\n",
       "    }\n",
       "\n",
       "    .dataframe thead th {\n",
       "        text-align: right;\n",
       "    }\n",
       "</style>\n",
       "<table border=\"1\" class=\"dataframe\">\n",
       "  <thead>\n",
       "    <tr style=\"text-align: right;\">\n",
       "      <th></th>\n",
       "      <th>sum_sec</th>\n",
       "      <th>2_amper_per_hour</th>\n",
       "      <th>3_one</th>\n",
       "      <th>4_volt</th>\n",
       "      <th>5_grad</th>\n",
       "      <th>7_loop</th>\n",
       "    </tr>\n",
       "  </thead>\n",
       "  <tbody>\n",
       "    <tr>\n",
       "      <th>95308</th>\n",
       "      <td>81040.458</td>\n",
       "      <td>NaN</td>\n",
       "      <td>NaN</td>\n",
       "      <td>29.13802</td>\n",
       "      <td>NaN</td>\n",
       "      <td>776.0</td>\n",
       "    </tr>\n",
       "    <tr>\n",
       "      <th>127689</th>\n",
       "      <td>81731.874</td>\n",
       "      <td>NaN</td>\n",
       "      <td>NaN</td>\n",
       "      <td>30.13209</td>\n",
       "      <td>NaN</td>\n",
       "      <td>776.0</td>\n",
       "    </tr>\n",
       "    <tr>\n",
       "      <th>105290</th>\n",
       "      <td>81256.573</td>\n",
       "      <td>NaN</td>\n",
       "      <td>NaN</td>\n",
       "      <td>28.53699</td>\n",
       "      <td>NaN</td>\n",
       "      <td>776.0</td>\n",
       "    </tr>\n",
       "    <tr>\n",
       "      <th>69227</th>\n",
       "      <td>80394.120</td>\n",
       "      <td>0.13039</td>\n",
       "      <td>NaN</td>\n",
       "      <td>NaN</td>\n",
       "      <td>NaN</td>\n",
       "      <td>776.0</td>\n",
       "    </tr>\n",
       "    <tr>\n",
       "      <th>163938</th>\n",
       "      <td>82540.295</td>\n",
       "      <td>-0.37499</td>\n",
       "      <td>NaN</td>\n",
       "      <td>NaN</td>\n",
       "      <td>NaN</td>\n",
       "      <td>776.0</td>\n",
       "    </tr>\n",
       "  </tbody>\n",
       "</table>\n",
       "</div>"
      ],
      "text/plain": [
       "          sum_sec  2_amper_per_hour  3_one    4_volt  5_grad  7_loop\n",
       "95308   81040.458               NaN    NaN  29.13802     NaN   776.0\n",
       "127689  81731.874               NaN    NaN  30.13209     NaN   776.0\n",
       "105290  81256.573               NaN    NaN  28.53699     NaN   776.0\n",
       "69227   80394.120           0.13039    NaN       NaN     NaN   776.0\n",
       "163938  82540.295          -0.37499    NaN       NaN     NaN   776.0"
      ]
     },
     "execution_count": 3,
     "metadata": {},
     "output_type": "execute_result"
    }
   ],
   "source": [
    "data = pd.read_csv('./dataset for python.csv', encoding='iso-8859-1', sep=';')\n",
    "\n",
    "data.sample(5)"
   ]
  },
  {
   "cell_type": "code",
   "execution_count": 4,
   "metadata": {},
   "outputs": [
    {
     "name": "stdout",
     "output_type": "stream",
     "text": [
      "          sum_sec  2_amper_per_hour  3_one    4_volt  5_grad  7_loop\n",
      "0       78721.058          -0.37499    NaN       NaN     NaN   776.0\n",
      "1       78721.079               NaN    NaN  29.78417     NaN   776.0\n",
      "2       78721.100          -0.12230    1.0       NaN     NaN   776.0\n",
      "3       78721.122               NaN    NaN  29.78417     NaN   776.0\n",
      "4       78721.143          -0.37499    NaN       NaN     NaN   776.0\n",
      "...           ...               ...    ...       ...     ...     ...\n",
      "234133  84179.596          -0.12230    1.0       NaN     NaN   776.0\n",
      "234134  84179.618               NaN    NaN  30.28120     NaN   776.0\n",
      "234135  84179.639          -0.12230    NaN       NaN     NaN   776.0\n",
      "234136  84179.660               NaN    NaN  30.38061     NaN   776.0\n",
      "234137  84179.681          -0.37499    1.0       NaN     NaN   776.0\n",
      "\n",
      "[234138 rows x 6 columns]\n"
     ]
    }
   ],
   "source": [
    "data = data[pd.notnull(data['sum_sec'])]\n",
    "print(data)"
   ]
  },
  {
   "cell_type": "code",
   "execution_count": 5,
   "metadata": {},
   "outputs": [
    {
     "name": "stdout",
     "output_type": "stream",
     "text": [
      "          sum_sec  2_amper_per_hour  3_one    4_volt  5_grad  7_loop\n",
      "0       78721.058          -0.37499    0.0       NaN     NaN   776.0\n",
      "1       78721.079               NaN    0.0  29.78417     NaN   776.0\n",
      "2       78721.100          -0.12230    1.0       NaN     NaN   776.0\n",
      "3       78721.122               NaN    0.0  29.78417     NaN   776.0\n",
      "4       78721.143          -0.37499    0.0       NaN     NaN   776.0\n",
      "...           ...               ...    ...       ...     ...     ...\n",
      "234133  84179.596          -0.12230    1.0       NaN     NaN   776.0\n",
      "234134  84179.618               NaN    0.0  30.28120     NaN   776.0\n",
      "234135  84179.639          -0.12230    0.0       NaN     NaN   776.0\n",
      "234136  84179.660               NaN    0.0  30.38061     NaN   776.0\n",
      "234137  84179.681          -0.37499    1.0       NaN     NaN   776.0\n",
      "\n",
      "[234138 rows x 6 columns]\n"
     ]
    }
   ],
   "source": [
    "data.loc[data['3_one'] != 1, '3_one'] = 0\n",
    "print(data)"
   ]
  },
  {
   "cell_type": "code",
   "execution_count": 6,
   "metadata": {},
   "outputs": [
    {
     "data": {
      "text/html": [
       "<div>\n",
       "<style scoped>\n",
       "    .dataframe tbody tr th:only-of-type {\n",
       "        vertical-align: middle;\n",
       "    }\n",
       "\n",
       "    .dataframe tbody tr th {\n",
       "        vertical-align: top;\n",
       "    }\n",
       "\n",
       "    .dataframe thead th {\n",
       "        text-align: right;\n",
       "    }\n",
       "</style>\n",
       "<table border=\"1\" class=\"dataframe\">\n",
       "  <thead>\n",
       "    <tr style=\"text-align: right;\">\n",
       "      <th></th>\n",
       "      <th>sum_sec</th>\n",
       "      <th>2_amper_per_hour</th>\n",
       "      <th>3_one</th>\n",
       "      <th>4_volt</th>\n",
       "      <th>5_grad</th>\n",
       "      <th>7_loop</th>\n",
       "    </tr>\n",
       "  </thead>\n",
       "  <tbody>\n",
       "    <tr>\n",
       "      <th>0</th>\n",
       "      <td>78721.058</td>\n",
       "      <td>-0.37499</td>\n",
       "      <td>0.0</td>\n",
       "      <td>0.00000</td>\n",
       "      <td>0.0</td>\n",
       "      <td>776.0</td>\n",
       "    </tr>\n",
       "    <tr>\n",
       "      <th>1</th>\n",
       "      <td>78721.079</td>\n",
       "      <td>0.00000</td>\n",
       "      <td>0.0</td>\n",
       "      <td>29.78417</td>\n",
       "      <td>0.0</td>\n",
       "      <td>776.0</td>\n",
       "    </tr>\n",
       "    <tr>\n",
       "      <th>2</th>\n",
       "      <td>78721.100</td>\n",
       "      <td>-0.12230</td>\n",
       "      <td>1.0</td>\n",
       "      <td>0.00000</td>\n",
       "      <td>0.0</td>\n",
       "      <td>776.0</td>\n",
       "    </tr>\n",
       "    <tr>\n",
       "      <th>3</th>\n",
       "      <td>78721.122</td>\n",
       "      <td>0.00000</td>\n",
       "      <td>0.0</td>\n",
       "      <td>29.78417</td>\n",
       "      <td>0.0</td>\n",
       "      <td>776.0</td>\n",
       "    </tr>\n",
       "    <tr>\n",
       "      <th>4</th>\n",
       "      <td>78721.143</td>\n",
       "      <td>-0.37499</td>\n",
       "      <td>0.0</td>\n",
       "      <td>0.00000</td>\n",
       "      <td>0.0</td>\n",
       "      <td>776.0</td>\n",
       "    </tr>\n",
       "    <tr>\n",
       "      <th>...</th>\n",
       "      <td>...</td>\n",
       "      <td>...</td>\n",
       "      <td>...</td>\n",
       "      <td>...</td>\n",
       "      <td>...</td>\n",
       "      <td>...</td>\n",
       "    </tr>\n",
       "    <tr>\n",
       "      <th>234133</th>\n",
       "      <td>84179.596</td>\n",
       "      <td>-0.12230</td>\n",
       "      <td>1.0</td>\n",
       "      <td>0.00000</td>\n",
       "      <td>0.0</td>\n",
       "      <td>776.0</td>\n",
       "    </tr>\n",
       "    <tr>\n",
       "      <th>234134</th>\n",
       "      <td>84179.618</td>\n",
       "      <td>0.00000</td>\n",
       "      <td>0.0</td>\n",
       "      <td>30.28120</td>\n",
       "      <td>0.0</td>\n",
       "      <td>776.0</td>\n",
       "    </tr>\n",
       "    <tr>\n",
       "      <th>234135</th>\n",
       "      <td>84179.639</td>\n",
       "      <td>-0.12230</td>\n",
       "      <td>0.0</td>\n",
       "      <td>0.00000</td>\n",
       "      <td>0.0</td>\n",
       "      <td>776.0</td>\n",
       "    </tr>\n",
       "    <tr>\n",
       "      <th>234136</th>\n",
       "      <td>84179.660</td>\n",
       "      <td>0.00000</td>\n",
       "      <td>0.0</td>\n",
       "      <td>30.38061</td>\n",
       "      <td>0.0</td>\n",
       "      <td>776.0</td>\n",
       "    </tr>\n",
       "    <tr>\n",
       "      <th>234137</th>\n",
       "      <td>84179.681</td>\n",
       "      <td>-0.37499</td>\n",
       "      <td>1.0</td>\n",
       "      <td>0.00000</td>\n",
       "      <td>0.0</td>\n",
       "      <td>776.0</td>\n",
       "    </tr>\n",
       "  </tbody>\n",
       "</table>\n",
       "<p>234138 rows × 6 columns</p>\n",
       "</div>"
      ],
      "text/plain": [
       "          sum_sec  2_amper_per_hour  3_one    4_volt  5_grad  7_loop\n",
       "0       78721.058          -0.37499    0.0   0.00000     0.0   776.0\n",
       "1       78721.079           0.00000    0.0  29.78417     0.0   776.0\n",
       "2       78721.100          -0.12230    1.0   0.00000     0.0   776.0\n",
       "3       78721.122           0.00000    0.0  29.78417     0.0   776.0\n",
       "4       78721.143          -0.37499    0.0   0.00000     0.0   776.0\n",
       "...           ...               ...    ...       ...     ...     ...\n",
       "234133  84179.596          -0.12230    1.0   0.00000     0.0   776.0\n",
       "234134  84179.618           0.00000    0.0  30.28120     0.0   776.0\n",
       "234135  84179.639          -0.12230    0.0   0.00000     0.0   776.0\n",
       "234136  84179.660           0.00000    0.0  30.38061     0.0   776.0\n",
       "234137  84179.681          -0.37499    1.0   0.00000     0.0   776.0\n",
       "\n",
       "[234138 rows x 6 columns]"
      ]
     },
     "execution_count": 6,
     "metadata": {},
     "output_type": "execute_result"
    }
   ],
   "source": [
    "data = data.fillna(0)\n",
    "data"
   ]
  },
  {
   "cell_type": "code",
   "execution_count": 7,
   "metadata": {},
   "outputs": [],
   "source": [
    "data['4_volt'][0] = 29.78417\n",
    "data['5_grad'][0] = 36.1"
   ]
  },
  {
   "cell_type": "code",
   "execution_count": 8,
   "metadata": {},
   "outputs": [],
   "source": [
    "data.drop(data.tail(2).index,inplace=True)"
   ]
  },
  {
   "cell_type": "code",
   "execution_count": 9,
   "metadata": {},
   "outputs": [
    {
     "data": {
      "text/html": [
       "<div>\n",
       "<style scoped>\n",
       "    .dataframe tbody tr th:only-of-type {\n",
       "        vertical-align: middle;\n",
       "    }\n",
       "\n",
       "    .dataframe tbody tr th {\n",
       "        vertical-align: top;\n",
       "    }\n",
       "\n",
       "    .dataframe thead th {\n",
       "        text-align: right;\n",
       "    }\n",
       "</style>\n",
       "<table border=\"1\" class=\"dataframe\">\n",
       "  <thead>\n",
       "    <tr style=\"text-align: right;\">\n",
       "      <th></th>\n",
       "      <th>sum_sec</th>\n",
       "      <th>2_amper_per_hour</th>\n",
       "      <th>3_one</th>\n",
       "      <th>4_volt</th>\n",
       "      <th>5_grad</th>\n",
       "      <th>7_loop</th>\n",
       "    </tr>\n",
       "  </thead>\n",
       "  <tbody>\n",
       "    <tr>\n",
       "      <th>0</th>\n",
       "      <td>78721.058</td>\n",
       "      <td>-0.37499</td>\n",
       "      <td>0.0</td>\n",
       "      <td>29.78417</td>\n",
       "      <td>36.1</td>\n",
       "      <td>776.0</td>\n",
       "    </tr>\n",
       "    <tr>\n",
       "      <th>1</th>\n",
       "      <td>78721.079</td>\n",
       "      <td>0.00000</td>\n",
       "      <td>0.0</td>\n",
       "      <td>29.78417</td>\n",
       "      <td>0.0</td>\n",
       "      <td>776.0</td>\n",
       "    </tr>\n",
       "    <tr>\n",
       "      <th>2</th>\n",
       "      <td>78721.100</td>\n",
       "      <td>-0.12230</td>\n",
       "      <td>1.0</td>\n",
       "      <td>0.00000</td>\n",
       "      <td>0.0</td>\n",
       "      <td>776.0</td>\n",
       "    </tr>\n",
       "    <tr>\n",
       "      <th>3</th>\n",
       "      <td>78721.122</td>\n",
       "      <td>0.00000</td>\n",
       "      <td>0.0</td>\n",
       "      <td>29.78417</td>\n",
       "      <td>0.0</td>\n",
       "      <td>776.0</td>\n",
       "    </tr>\n",
       "    <tr>\n",
       "      <th>4</th>\n",
       "      <td>78721.143</td>\n",
       "      <td>-0.37499</td>\n",
       "      <td>0.0</td>\n",
       "      <td>0.00000</td>\n",
       "      <td>0.0</td>\n",
       "      <td>776.0</td>\n",
       "    </tr>\n",
       "    <tr>\n",
       "      <th>...</th>\n",
       "      <td>...</td>\n",
       "      <td>...</td>\n",
       "      <td>...</td>\n",
       "      <td>...</td>\n",
       "      <td>...</td>\n",
       "      <td>...</td>\n",
       "    </tr>\n",
       "    <tr>\n",
       "      <th>234131</th>\n",
       "      <td>84179.554</td>\n",
       "      <td>-0.37499</td>\n",
       "      <td>0.0</td>\n",
       "      <td>0.00000</td>\n",
       "      <td>0.0</td>\n",
       "      <td>776.0</td>\n",
       "    </tr>\n",
       "    <tr>\n",
       "      <th>234132</th>\n",
       "      <td>84179.575</td>\n",
       "      <td>0.00000</td>\n",
       "      <td>0.0</td>\n",
       "      <td>30.38061</td>\n",
       "      <td>0.0</td>\n",
       "      <td>776.0</td>\n",
       "    </tr>\n",
       "    <tr>\n",
       "      <th>234133</th>\n",
       "      <td>84179.596</td>\n",
       "      <td>-0.12230</td>\n",
       "      <td>1.0</td>\n",
       "      <td>0.00000</td>\n",
       "      <td>0.0</td>\n",
       "      <td>776.0</td>\n",
       "    </tr>\n",
       "    <tr>\n",
       "      <th>234134</th>\n",
       "      <td>84179.618</td>\n",
       "      <td>0.00000</td>\n",
       "      <td>0.0</td>\n",
       "      <td>30.28120</td>\n",
       "      <td>0.0</td>\n",
       "      <td>776.0</td>\n",
       "    </tr>\n",
       "    <tr>\n",
       "      <th>234135</th>\n",
       "      <td>84179.639</td>\n",
       "      <td>-0.12230</td>\n",
       "      <td>0.0</td>\n",
       "      <td>0.00000</td>\n",
       "      <td>0.0</td>\n",
       "      <td>776.0</td>\n",
       "    </tr>\n",
       "  </tbody>\n",
       "</table>\n",
       "<p>234136 rows × 6 columns</p>\n",
       "</div>"
      ],
      "text/plain": [
       "          sum_sec  2_amper_per_hour  3_one    4_volt  5_grad  7_loop\n",
       "0       78721.058          -0.37499    0.0  29.78417    36.1   776.0\n",
       "1       78721.079           0.00000    0.0  29.78417     0.0   776.0\n",
       "2       78721.100          -0.12230    1.0   0.00000     0.0   776.0\n",
       "3       78721.122           0.00000    0.0  29.78417     0.0   776.0\n",
       "4       78721.143          -0.37499    0.0   0.00000     0.0   776.0\n",
       "...           ...               ...    ...       ...     ...     ...\n",
       "234131  84179.554          -0.37499    0.0   0.00000     0.0   776.0\n",
       "234132  84179.575           0.00000    0.0  30.38061     0.0   776.0\n",
       "234133  84179.596          -0.12230    1.0   0.00000     0.0   776.0\n",
       "234134  84179.618           0.00000    0.0  30.28120     0.0   776.0\n",
       "234135  84179.639          -0.12230    0.0   0.00000     0.0   776.0\n",
       "\n",
       "[234136 rows x 6 columns]"
      ]
     },
     "execution_count": 9,
     "metadata": {},
     "output_type": "execute_result"
    }
   ],
   "source": [
    "data"
   ]
  },
  {
   "cell_type": "code",
   "execution_count": 10,
   "metadata": {},
   "outputs": [],
   "source": [
    "for index, row in enumerate(data['4_volt']):\n",
    "    if row == 0:\n",
    "        data['4_volt'][index] = data['4_volt'][index-1]"
   ]
  },
  {
   "cell_type": "code",
   "execution_count": 11,
   "metadata": {},
   "outputs": [],
   "source": [
    "for index, row in enumerate(data['5_grad']):\n",
    "    if row == 0:\n",
    "        data['5_grad'][index] = data['5_grad'][index-1]"
   ]
  },
  {
   "cell_type": "code",
   "execution_count": 12,
   "metadata": {},
   "outputs": [],
   "source": [
    "for index, row in enumerate(data['2_amper_per_hour']):\n",
    "    if row == 0:\n",
    "        data['2_amper_per_hour'][index] = data['2_amper_per_hour'][index-1]"
   ]
  },
  {
   "cell_type": "code",
   "execution_count": 55,
   "metadata": {},
   "outputs": [],
   "source": [
    "data = data.drop(data[data['4_volt'] < 28].index)\n",
    "data = data.drop(data[data['4_volt'] > 33].index)\n",
    "\n",
    "data = data.drop(data[data['2_amper_per_hour'] < -1].index)\n",
    "data = data.drop(data[data['2_amper_per_hour'] > 1].index)"
   ]
  },
  {
   "cell_type": "code",
   "execution_count": 13,
   "metadata": {},
   "outputs": [
    {
     "data": {
      "text/html": [
       "<div>\n",
       "<style scoped>\n",
       "    .dataframe tbody tr th:only-of-type {\n",
       "        vertical-align: middle;\n",
       "    }\n",
       "\n",
       "    .dataframe tbody tr th {\n",
       "        vertical-align: top;\n",
       "    }\n",
       "\n",
       "    .dataframe thead th {\n",
       "        text-align: right;\n",
       "    }\n",
       "</style>\n",
       "<table border=\"1\" class=\"dataframe\">\n",
       "  <thead>\n",
       "    <tr style=\"text-align: right;\">\n",
       "      <th></th>\n",
       "      <th>sum_sec</th>\n",
       "      <th>2_amper_per_hour</th>\n",
       "      <th>3_one</th>\n",
       "      <th>4_volt</th>\n",
       "      <th>5_grad</th>\n",
       "      <th>7_loop</th>\n",
       "    </tr>\n",
       "  </thead>\n",
       "  <tbody>\n",
       "    <tr>\n",
       "      <th>count</th>\n",
       "      <td>234136.000000</td>\n",
       "      <td>234136.000000</td>\n",
       "      <td>234136.000000</td>\n",
       "      <td>234136.000000</td>\n",
       "      <td>234136.000000</td>\n",
       "      <td>234136.0</td>\n",
       "    </tr>\n",
       "    <tr>\n",
       "      <th>mean</th>\n",
       "      <td>81485.675912</td>\n",
       "      <td>-0.166983</td>\n",
       "      <td>0.263283</td>\n",
       "      <td>29.848700</td>\n",
       "      <td>31.688946</td>\n",
       "      <td>776.0</td>\n",
       "    </tr>\n",
       "    <tr>\n",
       "      <th>std</th>\n",
       "      <td>1587.293574</td>\n",
       "      <td>0.245953</td>\n",
       "      <td>0.440416</td>\n",
       "      <td>0.931172</td>\n",
       "      <td>43.761384</td>\n",
       "      <td>0.0</td>\n",
       "    </tr>\n",
       "    <tr>\n",
       "      <th>min</th>\n",
       "      <td>78721.058000</td>\n",
       "      <td>-1.133060</td>\n",
       "      <td>0.000000</td>\n",
       "      <td>27.733780</td>\n",
       "      <td>-40.100000</td>\n",
       "      <td>776.0</td>\n",
       "    </tr>\n",
       "    <tr>\n",
       "      <th>25%</th>\n",
       "      <td>80148.326750</td>\n",
       "      <td>-0.374990</td>\n",
       "      <td>0.000000</td>\n",
       "      <td>29.038610</td>\n",
       "      <td>-14.700000</td>\n",
       "      <td>776.0</td>\n",
       "    </tr>\n",
       "    <tr>\n",
       "      <th>50%</th>\n",
       "      <td>81506.479500</td>\n",
       "      <td>-0.122300</td>\n",
       "      <td>0.000000</td>\n",
       "      <td>29.833870</td>\n",
       "      <td>39.700000</td>\n",
       "      <td>776.0</td>\n",
       "    </tr>\n",
       "    <tr>\n",
       "      <th>75%</th>\n",
       "      <td>82884.772250</td>\n",
       "      <td>-0.122300</td>\n",
       "      <td>1.000000</td>\n",
       "      <td>30.529720</td>\n",
       "      <td>76.000000</td>\n",
       "      <td>776.0</td>\n",
       "    </tr>\n",
       "    <tr>\n",
       "      <th>max</th>\n",
       "      <td>84179.639000</td>\n",
       "      <td>1.393830</td>\n",
       "      <td>1.000000</td>\n",
       "      <td>34.923460</td>\n",
       "      <td>82.300000</td>\n",
       "      <td>776.0</td>\n",
       "    </tr>\n",
       "  </tbody>\n",
       "</table>\n",
       "</div>"
      ],
      "text/plain": [
       "             sum_sec  2_amper_per_hour          3_one         4_volt  \\\n",
       "count  234136.000000     234136.000000  234136.000000  234136.000000   \n",
       "mean    81485.675912         -0.166983       0.263283      29.848700   \n",
       "std      1587.293574          0.245953       0.440416       0.931172   \n",
       "min     78721.058000         -1.133060       0.000000      27.733780   \n",
       "25%     80148.326750         -0.374990       0.000000      29.038610   \n",
       "50%     81506.479500         -0.122300       0.000000      29.833870   \n",
       "75%     82884.772250         -0.122300       1.000000      30.529720   \n",
       "max     84179.639000          1.393830       1.000000      34.923460   \n",
       "\n",
       "              5_grad    7_loop  \n",
       "count  234136.000000  234136.0  \n",
       "mean       31.688946     776.0  \n",
       "std        43.761384       0.0  \n",
       "min       -40.100000     776.0  \n",
       "25%       -14.700000     776.0  \n",
       "50%        39.700000     776.0  \n",
       "75%        76.000000     776.0  \n",
       "max        82.300000     776.0  "
      ]
     },
     "execution_count": 13,
     "metadata": {},
     "output_type": "execute_result"
    }
   ],
   "source": [
    "data.describe()"
   ]
  },
  {
   "cell_type": "code",
   "execution_count": 56,
   "metadata": {},
   "outputs": [],
   "source": [
    "x = data['sum_sec'] \n",
    "\n",
    "y_amper = data['2_amper_per_hour']\n",
    "y_volt = data['4_volt']\n",
    "y_grad = data['5_grad']"
   ]
  },
  {
   "cell_type": "code",
   "execution_count": 57,
   "metadata": {},
   "outputs": [
    {
     "data": {
      "text/html": [
       "<div>\n",
       "<style scoped>\n",
       "    .dataframe tbody tr th:only-of-type {\n",
       "        vertical-align: middle;\n",
       "    }\n",
       "\n",
       "    .dataframe tbody tr th {\n",
       "        vertical-align: top;\n",
       "    }\n",
       "\n",
       "    .dataframe thead th {\n",
       "        text-align: right;\n",
       "    }\n",
       "</style>\n",
       "<table border=\"1\" class=\"dataframe\">\n",
       "  <thead>\n",
       "    <tr style=\"text-align: right;\">\n",
       "      <th></th>\n",
       "      <th>sum_sec</th>\n",
       "      <th>2_amper_per_hour</th>\n",
       "      <th>3_one</th>\n",
       "      <th>4_volt</th>\n",
       "      <th>5_grad</th>\n",
       "      <th>7_loop</th>\n",
       "    </tr>\n",
       "  </thead>\n",
       "  <tbody>\n",
       "    <tr>\n",
       "      <th>0</th>\n",
       "      <td>78721.058</td>\n",
       "      <td>-0.37499</td>\n",
       "      <td>0.0</td>\n",
       "      <td>29.78417</td>\n",
       "      <td>36.1</td>\n",
       "      <td>776.0</td>\n",
       "    </tr>\n",
       "    <tr>\n",
       "      <th>1</th>\n",
       "      <td>78721.079</td>\n",
       "      <td>-0.37499</td>\n",
       "      <td>0.0</td>\n",
       "      <td>29.78417</td>\n",
       "      <td>36.1</td>\n",
       "      <td>776.0</td>\n",
       "    </tr>\n",
       "    <tr>\n",
       "      <th>2</th>\n",
       "      <td>78721.100</td>\n",
       "      <td>-0.12230</td>\n",
       "      <td>1.0</td>\n",
       "      <td>29.78417</td>\n",
       "      <td>36.1</td>\n",
       "      <td>776.0</td>\n",
       "    </tr>\n",
       "    <tr>\n",
       "      <th>3</th>\n",
       "      <td>78721.122</td>\n",
       "      <td>-0.12230</td>\n",
       "      <td>0.0</td>\n",
       "      <td>29.78417</td>\n",
       "      <td>36.1</td>\n",
       "      <td>776.0</td>\n",
       "    </tr>\n",
       "    <tr>\n",
       "      <th>4</th>\n",
       "      <td>78721.143</td>\n",
       "      <td>-0.37499</td>\n",
       "      <td>0.0</td>\n",
       "      <td>29.78417</td>\n",
       "      <td>36.1</td>\n",
       "      <td>776.0</td>\n",
       "    </tr>\n",
       "    <tr>\n",
       "      <th>...</th>\n",
       "      <td>...</td>\n",
       "      <td>...</td>\n",
       "      <td>...</td>\n",
       "      <td>...</td>\n",
       "      <td>...</td>\n",
       "      <td>...</td>\n",
       "    </tr>\n",
       "    <tr>\n",
       "      <th>234131</th>\n",
       "      <td>84179.554</td>\n",
       "      <td>-0.37499</td>\n",
       "      <td>0.0</td>\n",
       "      <td>30.52972</td>\n",
       "      <td>54.2</td>\n",
       "      <td>776.0</td>\n",
       "    </tr>\n",
       "    <tr>\n",
       "      <th>234132</th>\n",
       "      <td>84179.575</td>\n",
       "      <td>-0.37499</td>\n",
       "      <td>0.0</td>\n",
       "      <td>30.38061</td>\n",
       "      <td>54.2</td>\n",
       "      <td>776.0</td>\n",
       "    </tr>\n",
       "    <tr>\n",
       "      <th>234133</th>\n",
       "      <td>84179.596</td>\n",
       "      <td>-0.12230</td>\n",
       "      <td>1.0</td>\n",
       "      <td>30.38061</td>\n",
       "      <td>54.2</td>\n",
       "      <td>776.0</td>\n",
       "    </tr>\n",
       "    <tr>\n",
       "      <th>234134</th>\n",
       "      <td>84179.618</td>\n",
       "      <td>-0.12230</td>\n",
       "      <td>0.0</td>\n",
       "      <td>30.28120</td>\n",
       "      <td>54.2</td>\n",
       "      <td>776.0</td>\n",
       "    </tr>\n",
       "    <tr>\n",
       "      <th>234135</th>\n",
       "      <td>84179.639</td>\n",
       "      <td>-0.12230</td>\n",
       "      <td>0.0</td>\n",
       "      <td>30.28120</td>\n",
       "      <td>54.2</td>\n",
       "      <td>776.0</td>\n",
       "    </tr>\n",
       "  </tbody>\n",
       "</table>\n",
       "<p>234125 rows × 6 columns</p>\n",
       "</div>"
      ],
      "text/plain": [
       "          sum_sec  2_amper_per_hour  3_one    4_volt  5_grad  7_loop\n",
       "0       78721.058          -0.37499    0.0  29.78417    36.1   776.0\n",
       "1       78721.079          -0.37499    0.0  29.78417    36.1   776.0\n",
       "2       78721.100          -0.12230    1.0  29.78417    36.1   776.0\n",
       "3       78721.122          -0.12230    0.0  29.78417    36.1   776.0\n",
       "4       78721.143          -0.37499    0.0  29.78417    36.1   776.0\n",
       "...           ...               ...    ...       ...     ...     ...\n",
       "234131  84179.554          -0.37499    0.0  30.52972    54.2   776.0\n",
       "234132  84179.575          -0.37499    0.0  30.38061    54.2   776.0\n",
       "234133  84179.596          -0.12230    1.0  30.38061    54.2   776.0\n",
       "234134  84179.618          -0.12230    0.0  30.28120    54.2   776.0\n",
       "234135  84179.639          -0.12230    0.0  30.28120    54.2   776.0\n",
       "\n",
       "[234125 rows x 6 columns]"
      ]
     },
     "execution_count": 57,
     "metadata": {},
     "output_type": "execute_result"
    }
   ],
   "source": [
    "data"
   ]
  },
  {
   "cell_type": "code",
   "execution_count": null,
   "metadata": {},
   "outputs": [],
   "source": []
  },
  {
   "cell_type": "markdown",
   "metadata": {},
   "source": [
    "# Рассмотрим параметр y_amper - Ампер/час "
   ]
  },
  {
   "cell_type": "code",
   "execution_count": 58,
   "metadata": {},
   "outputs": [],
   "source": [
    "x = x.to_numpy()\n",
    "x = x.reshape(-1, 1)"
   ]
  },
  {
   "cell_type": "code",
   "execution_count": 59,
   "metadata": {},
   "outputs": [],
   "source": [
    "import seaborn as sns\n",
    "from sklearn.linear_model import Ridge\n",
    "from sklearn.preprocessing import PolynomialFeatures\n",
    "from sklearn.pipeline import make_pipeline\n",
    "from sklearn.linear_model import LinearRegression"
   ]
  },
  {
   "cell_type": "code",
   "execution_count": 60,
   "metadata": {},
   "outputs": [
    {
     "data": {
      "text/plain": [
       "Pipeline(steps=[('polynomialfeatures', PolynomialFeatures()),\n",
       "                ('linearregression', LinearRegression())])"
      ]
     },
     "execution_count": 60,
     "metadata": {},
     "output_type": "execute_result"
    }
   ],
   "source": [
    "model_amper = make_pipeline(PolynomialFeatures(2), LinearRegression())\n",
    "model_amper.fit(x,y_amper)"
   ]
  },
  {
   "cell_type": "code",
   "execution_count": 61,
   "metadata": {},
   "outputs": [],
   "source": [
    "amper_predicts = model_amper.predict(x)"
   ]
  },
  {
   "cell_type": "code",
   "execution_count": 62,
   "metadata": {},
   "outputs": [
    {
     "name": "stdout",
     "output_type": "stream",
     "text": [
      "Test r2:  0.038818420971140855\n",
      "Test MSE:  0.058111203589562996\n",
      "Test MAE:  0.1951020913624511\n"
     ]
    }
   ],
   "source": [
    "from sklearn.metrics import mean_squared_error, mean_absolute_error, r2_score\n",
    "\n",
    "print('Test r2: ', r2_score(y_amper, amper_predicts))\n",
    "\n",
    "#print('Train MSE: ', mean_squared_error(y_train, y_train_prediction))\n",
    "print('Test MSE: ', mean_squared_error(y_amper, amper_predicts))\n",
    "\n",
    "#print('Train MAE: ', mean_absolute_error(y_train, y_train_prediction))\n",
    "print('Test MAE: ', mean_absolute_error(y_amper, amper_predicts))"
   ]
  },
  {
   "cell_type": "code",
   "execution_count": 63,
   "metadata": {},
   "outputs": [
    {
     "data": {
      "text/plain": [
       "[<matplotlib.lines.Line2D at 0x29be9c1a430>]"
      ]
     },
     "execution_count": 63,
     "metadata": {},
     "output_type": "execute_result"
    },
    {
     "data": {
      "image/png": "[encoded data removed]",
      "text/plain": [
       "<Figure size 432x288 with 1 Axes>"
      ]
     },
     "metadata": {},
     "output_type": "display_data"
    }
   ],
   "source": [
    "from matplotlib import pyplot as plt\n",
    "plt.plot(x, y_amper)"
   ]
  },
  {
   "cell_type": "code",
   "execution_count": 64,
   "metadata": {},
   "outputs": [
    {
     "data": {
      "text/plain": [
       "[<matplotlib.lines.Line2D at 0x29be9c74220>]"
      ]
     },
     "execution_count": 64,
     "metadata": {},
     "output_type": "execute_result"
    },
    {
     "data": {
      "image/png": "[encoded data removed]",
      "text/plain": [
       "<Figure size 432x288 with 1 Axes>"
      ]
     },
     "metadata": {},
     "output_type": "display_data"
    }
   ],
   "source": [
    "plt.plot(x, y_amper)\n",
    "plt.plot(x, amper_predicts)"
   ]
  },
  {
   "cell_type": "markdown",
   "metadata": {},
   "source": [
    "### Рассмотрим параметр y_volt - Вольты"
   ]
  },
  {
   "cell_type": "code",
   "execution_count": 24,
   "metadata": {},
   "outputs": [
    {
     "data": {
      "text/plain": [
       "[<matplotlib.lines.Line2D at 0x29bdfc36790>]"
      ]
     },
     "execution_count": 24,
     "metadata": {},
     "output_type": "execute_result"
    },
    {
     "data": {
      "image/png": "[encoded data removed]",
      "text/plain": [
       "<Figure size 432x288 with 1 Axes>"
      ]
     },
     "metadata": {},
     "output_type": "display_data"
    }
   ],
   "source": [
    "plt.plot(x, y_volt)"
   ]
  },
  {
   "cell_type": "code",
   "execution_count": 65,
   "metadata": {},
   "outputs": [
    {
     "data": {
      "text/plain": [
       "Pipeline(steps=[('polynomialfeatures', PolynomialFeatures(degree=3)),\n",
       "                ('linearregression', LinearRegression())])"
      ]
     },
     "execution_count": 65,
     "metadata": {},
     "output_type": "execute_result"
    }
   ],
   "source": [
    "model_volt = make_pipeline(PolynomialFeatures(3), LinearRegression())\n",
    "model_volt.fit(x,y_volt)"
   ]
  },
  {
   "cell_type": "code",
   "execution_count": 66,
   "metadata": {},
   "outputs": [],
   "source": [
    "volt_predicts = model_volt.predict(x)"
   ]
  },
  {
   "cell_type": "code",
   "execution_count": 67,
   "metadata": {},
   "outputs": [
    {
     "name": "stdout",
     "output_type": "stream",
     "text": [
      "Test r2:  0.8835654015493242\n",
      "Test MSE:  0.10091687656980133\n",
      "Test MAE:  0.25510079380737527\n"
     ]
    }
   ],
   "source": [
    "from sklearn.metrics import mean_squared_error, mean_absolute_error, r2_score\n",
    "\n",
    "print('Test r2: ', r2_score(y_volt, volt_predicts))\n",
    "\n",
    "#print('Train MSE: ', mean_squared_error(y_train, y_train_prediction))\n",
    "print('Test MSE: ', mean_squared_error(y_volt, volt_predicts))\n",
    "\n",
    "#print('Train MAE: ', mean_absolute_error(y_train, y_train_prediction))\n",
    "print('Test MAE: ', mean_absolute_error(y_volt, volt_predicts))"
   ]
  },
  {
   "cell_type": "code",
   "execution_count": 68,
   "metadata": {},
   "outputs": [
    {
     "data": {
      "text/plain": [
       "[<matplotlib.lines.Line2D at 0x29bea660130>]"
      ]
     },
     "execution_count": 68,
     "metadata": {},
     "output_type": "execute_result"
    },
    {
     "data": {
      "image/png": "[encoded data removed]",
      "text/plain": [
       "<Figure size 432x288 with 1 Axes>"
      ]
     },
     "metadata": {},
     "output_type": "display_data"
    }
   ],
   "source": [
    "plt.plot(x, y_volt)\n",
    "plt.plot(x, volt_predicts)"
   ]
  },
  {
   "cell_type": "markdown",
   "metadata": {},
   "source": [
    "# Рассмотрим параметры y_grad"
   ]
  },
  {
   "cell_type": "code",
   "execution_count": 29,
   "metadata": {},
   "outputs": [
    {
     "data": {
      "text/plain": [
       "[<matplotlib.lines.Line2D at 0x29bdfce7c10>]"
      ]
     },
     "execution_count": 29,
     "metadata": {},
     "output_type": "execute_result"
    },
    {
     "data": {
      "image/png": "[encoded data removed]",
      "text/plain": [
       "<Figure size 432x288 with 1 Axes>"
      ]
     },
     "metadata": {},
     "output_type": "display_data"
    }
   ],
   "source": [
    "plt.plot(x, y_grad)"
   ]
  },
  {
   "cell_type": "code",
   "execution_count": 69,
   "metadata": {},
   "outputs": [
    {
     "data": {
      "text/plain": [
       "Pipeline(steps=[('polynomialfeatures', PolynomialFeatures(degree=3)),\n",
       "                ('linearregression', LinearRegression())])"
      ]
     },
     "execution_count": 69,
     "metadata": {},
     "output_type": "execute_result"
    }
   ],
   "source": [
    "model_grad = make_pipeline(PolynomialFeatures(3), LinearRegression())\n",
    "model_grad.fit(x,y_grad)"
   ]
  },
  {
   "cell_type": "code",
   "execution_count": 70,
   "metadata": {},
   "outputs": [],
   "source": [
    "grad_predicts = model_grad.predict(x)"
   ]
  },
  {
   "cell_type": "code",
   "execution_count": 71,
   "metadata": {},
   "outputs": [
    {
     "name": "stdout",
     "output_type": "stream",
     "text": [
      "Test r2:  0.9135776036853527\n",
      "Test MSE:  165.49808282615982\n",
      "Test MAE:  9.687016781211517\n"
     ]
    }
   ],
   "source": [
    "from sklearn.metrics import mean_squared_error, mean_absolute_error, r2_score\n",
    "\n",
    "print('Test r2: ', r2_score(y_grad, grad_predicts))\n",
    "\n",
    "#print('Train MSE: ', mean_squared_error(y_train, y_train_prediction))\n",
    "print('Test MSE: ', mean_squared_error(y_grad, grad_predicts))\n",
    "\n",
    "#print('Train MAE: ', mean_absolute_error(y_train, y_train_prediction))\n",
    "print('Test MAE: ', mean_absolute_error(y_grad, grad_predicts))"
   ]
  },
  {
   "cell_type": "code",
   "execution_count": 72,
   "metadata": {},
   "outputs": [
    {
     "data": {
      "text/plain": [
       "[<matplotlib.lines.Line2D at 0x29bea7d5a60>]"
      ]
     },
     "execution_count": 72,
     "metadata": {},
     "output_type": "execute_result"
    },
    {
     "data": {
      "image/png": "[encoded data removed]",
      "text/plain": [
       "<Figure size 432x288 with 1 Axes>"
      ]
     },
     "metadata": {},
     "output_type": "display_data"
    }
   ],
   "source": [
    "plt.plot(x, y_grad)\n",
    "plt.plot(x, grad_predicts)"
   ]
  },
  {
   "cell_type": "markdown",
   "metadata": {},
   "source": [
    "# Рассмотрим второй файл с телеметрией"
   ]
  },
  {
   "cell_type": "code",
   "execution_count": 34,
   "metadata": {},
   "outputs": [
    {
     "data": {
      "text/html": [
       "<div>\n",
       "<style scoped>\n",
       "    .dataframe tbody tr th:only-of-type {\n",
       "        vertical-align: middle;\n",
       "    }\n",
       "\n",
       "    .dataframe tbody tr th {\n",
       "        vertical-align: top;\n",
       "    }\n",
       "\n",
       "    .dataframe thead th {\n",
       "        text-align: right;\n",
       "    }\n",
       "</style>\n",
       "<table border=\"1\" class=\"dataframe\">\n",
       "  <thead>\n",
       "    <tr style=\"text-align: right;\">\n",
       "      <th></th>\n",
       "      <th>t_2</th>\n",
       "      <th>amper_per_hour_2</th>\n",
       "      <th>volt_2</th>\n",
       "      <th>grad_2</th>\n",
       "    </tr>\n",
       "  </thead>\n",
       "  <tbody>\n",
       "    <tr>\n",
       "      <th>66562</th>\n",
       "      <td>13276.218</td>\n",
       "      <td>45.73473</td>\n",
       "      <td>NaN</td>\n",
       "      <td>NaN</td>\n",
       "    </tr>\n",
       "    <tr>\n",
       "      <th>163283</th>\n",
       "      <td>15456.693</td>\n",
       "      <td>NaN</td>\n",
       "      <td>30.52972</td>\n",
       "      <td>NaN</td>\n",
       "    </tr>\n",
       "    <tr>\n",
       "      <th>192740</th>\n",
       "      <td>16081.464</td>\n",
       "      <td>52.22622</td>\n",
       "      <td>NaN</td>\n",
       "      <td>NaN</td>\n",
       "    </tr>\n",
       "    <tr>\n",
       "      <th>30662</th>\n",
       "      <td>12330.589</td>\n",
       "      <td>NaN</td>\n",
       "      <td>29.18772</td>\n",
       "      <td>NaN</td>\n",
       "    </tr>\n",
       "    <tr>\n",
       "      <th>66431</th>\n",
       "      <td>13273.439</td>\n",
       "      <td>NaN</td>\n",
       "      <td>30.52972</td>\n",
       "      <td>NaN</td>\n",
       "    </tr>\n",
       "  </tbody>\n",
       "</table>\n",
       "</div>"
      ],
      "text/plain": [
       "              t_2  amper_per_hour_2    volt_2  grad_2\n",
       "66562   13276.218          45.73473       NaN     NaN\n",
       "163283  15456.693               NaN  30.52972     NaN\n",
       "192740  16081.464          52.22622       NaN     NaN\n",
       "30662   12330.589               NaN  29.18772     NaN\n",
       "66431   13273.439               NaN  30.52972     NaN"
      ]
     },
     "execution_count": 34,
     "metadata": {},
     "output_type": "execute_result"
    }
   ],
   "source": [
    "data_2 = pd.read_csv('Dataset for python part2.csv', encoding='iso-8859-1', sep=';')\n",
    "\n",
    "data_2.sample(5)"
   ]
  },
  {
   "cell_type": "code",
   "execution_count": 35,
   "metadata": {},
   "outputs": [
    {
     "data": {
      "text/html": [
       "<div>\n",
       "<style scoped>\n",
       "    .dataframe tbody tr th:only-of-type {\n",
       "        vertical-align: middle;\n",
       "    }\n",
       "\n",
       "    .dataframe tbody tr th {\n",
       "        vertical-align: top;\n",
       "    }\n",
       "\n",
       "    .dataframe thead th {\n",
       "        text-align: right;\n",
       "    }\n",
       "</style>\n",
       "<table border=\"1\" class=\"dataframe\">\n",
       "  <thead>\n",
       "    <tr style=\"text-align: right;\">\n",
       "      <th></th>\n",
       "      <th>t_2</th>\n",
       "      <th>amper_per_hour_2</th>\n",
       "      <th>volt_2</th>\n",
       "      <th>grad_2</th>\n",
       "    </tr>\n",
       "  </thead>\n",
       "  <tbody>\n",
       "    <tr>\n",
       "      <th>0</th>\n",
       "      <td>11641.094</td>\n",
       "      <td>0.00000</td>\n",
       "      <td>29.23742</td>\n",
       "      <td>0.0</td>\n",
       "    </tr>\n",
       "    <tr>\n",
       "      <th>1</th>\n",
       "      <td>11641.115</td>\n",
       "      <td>48.85065</td>\n",
       "      <td>0.00000</td>\n",
       "      <td>0.0</td>\n",
       "    </tr>\n",
       "    <tr>\n",
       "      <th>2</th>\n",
       "      <td>11641.136</td>\n",
       "      <td>0.00000</td>\n",
       "      <td>29.28713</td>\n",
       "      <td>0.0</td>\n",
       "    </tr>\n",
       "    <tr>\n",
       "      <th>3</th>\n",
       "      <td>11641.157</td>\n",
       "      <td>48.33133</td>\n",
       "      <td>0.00000</td>\n",
       "      <td>0.0</td>\n",
       "    </tr>\n",
       "    <tr>\n",
       "      <th>4</th>\n",
       "      <td>11641.178</td>\n",
       "      <td>0.00000</td>\n",
       "      <td>29.73446</td>\n",
       "      <td>0.0</td>\n",
       "    </tr>\n",
       "    <tr>\n",
       "      <th>...</th>\n",
       "      <td>...</td>\n",
       "      <td>...</td>\n",
       "      <td>...</td>\n",
       "      <td>...</td>\n",
       "    </tr>\n",
       "    <tr>\n",
       "      <th>199993</th>\n",
       "      <td>16235.323</td>\n",
       "      <td>0.00000</td>\n",
       "      <td>30.13209</td>\n",
       "      <td>0.0</td>\n",
       "    </tr>\n",
       "    <tr>\n",
       "      <th>199994</th>\n",
       "      <td>16235.344</td>\n",
       "      <td>51.70690</td>\n",
       "      <td>0.00000</td>\n",
       "      <td>0.0</td>\n",
       "    </tr>\n",
       "    <tr>\n",
       "      <th>199995</th>\n",
       "      <td>16235.365</td>\n",
       "      <td>0.00000</td>\n",
       "      <td>29.83387</td>\n",
       "      <td>0.0</td>\n",
       "    </tr>\n",
       "    <tr>\n",
       "      <th>199996</th>\n",
       "      <td>16235.387</td>\n",
       "      <td>51.70690</td>\n",
       "      <td>0.00000</td>\n",
       "      <td>26.1</td>\n",
       "    </tr>\n",
       "    <tr>\n",
       "      <th>199997</th>\n",
       "      <td>16235.408</td>\n",
       "      <td>0.00000</td>\n",
       "      <td>29.88357</td>\n",
       "      <td>0.0</td>\n",
       "    </tr>\n",
       "  </tbody>\n",
       "</table>\n",
       "<p>199998 rows × 4 columns</p>\n",
       "</div>"
      ],
      "text/plain": [
       "              t_2  amper_per_hour_2    volt_2  grad_2\n",
       "0       11641.094           0.00000  29.23742     0.0\n",
       "1       11641.115          48.85065   0.00000     0.0\n",
       "2       11641.136           0.00000  29.28713     0.0\n",
       "3       11641.157          48.33133   0.00000     0.0\n",
       "4       11641.178           0.00000  29.73446     0.0\n",
       "...           ...               ...       ...     ...\n",
       "199993  16235.323           0.00000  30.13209     0.0\n",
       "199994  16235.344          51.70690   0.00000     0.0\n",
       "199995  16235.365           0.00000  29.83387     0.0\n",
       "199996  16235.387          51.70690   0.00000    26.1\n",
       "199997  16235.408           0.00000  29.88357     0.0\n",
       "\n",
       "[199998 rows x 4 columns]"
      ]
     },
     "execution_count": 35,
     "metadata": {},
     "output_type": "execute_result"
    }
   ],
   "source": [
    "data_2 = data_2.fillna(0)\n",
    "data_2"
   ]
  },
  {
   "cell_type": "code",
   "execution_count": 36,
   "metadata": {},
   "outputs": [
    {
     "data": {
      "text/html": [
       "<div>\n",
       "<style scoped>\n",
       "    .dataframe tbody tr th:only-of-type {\n",
       "        vertical-align: middle;\n",
       "    }\n",
       "\n",
       "    .dataframe tbody tr th {\n",
       "        vertical-align: top;\n",
       "    }\n",
       "\n",
       "    .dataframe thead th {\n",
       "        text-align: right;\n",
       "    }\n",
       "</style>\n",
       "<table border=\"1\" class=\"dataframe\">\n",
       "  <thead>\n",
       "    <tr style=\"text-align: right;\">\n",
       "      <th></th>\n",
       "      <th>t_2</th>\n",
       "      <th>amper_per_hour_2</th>\n",
       "      <th>volt_2</th>\n",
       "      <th>grad_2</th>\n",
       "    </tr>\n",
       "  </thead>\n",
       "  <tbody>\n",
       "    <tr>\n",
       "      <th>0</th>\n",
       "      <td>11641.094</td>\n",
       "      <td>48.85065</td>\n",
       "      <td>29.23742</td>\n",
       "      <td>-19.2</td>\n",
       "    </tr>\n",
       "    <tr>\n",
       "      <th>1</th>\n",
       "      <td>11641.115</td>\n",
       "      <td>48.85065</td>\n",
       "      <td>0.00000</td>\n",
       "      <td>0.0</td>\n",
       "    </tr>\n",
       "    <tr>\n",
       "      <th>2</th>\n",
       "      <td>11641.136</td>\n",
       "      <td>0.00000</td>\n",
       "      <td>29.28713</td>\n",
       "      <td>0.0</td>\n",
       "    </tr>\n",
       "    <tr>\n",
       "      <th>3</th>\n",
       "      <td>11641.157</td>\n",
       "      <td>48.33133</td>\n",
       "      <td>0.00000</td>\n",
       "      <td>0.0</td>\n",
       "    </tr>\n",
       "    <tr>\n",
       "      <th>4</th>\n",
       "      <td>11641.178</td>\n",
       "      <td>0.00000</td>\n",
       "      <td>29.73446</td>\n",
       "      <td>0.0</td>\n",
       "    </tr>\n",
       "    <tr>\n",
       "      <th>...</th>\n",
       "      <td>...</td>\n",
       "      <td>...</td>\n",
       "      <td>...</td>\n",
       "      <td>...</td>\n",
       "    </tr>\n",
       "    <tr>\n",
       "      <th>199993</th>\n",
       "      <td>16235.323</td>\n",
       "      <td>0.00000</td>\n",
       "      <td>30.13209</td>\n",
       "      <td>0.0</td>\n",
       "    </tr>\n",
       "    <tr>\n",
       "      <th>199994</th>\n",
       "      <td>16235.344</td>\n",
       "      <td>51.70690</td>\n",
       "      <td>0.00000</td>\n",
       "      <td>0.0</td>\n",
       "    </tr>\n",
       "    <tr>\n",
       "      <th>199995</th>\n",
       "      <td>16235.365</td>\n",
       "      <td>0.00000</td>\n",
       "      <td>29.83387</td>\n",
       "      <td>0.0</td>\n",
       "    </tr>\n",
       "    <tr>\n",
       "      <th>199996</th>\n",
       "      <td>16235.387</td>\n",
       "      <td>51.70690</td>\n",
       "      <td>0.00000</td>\n",
       "      <td>26.1</td>\n",
       "    </tr>\n",
       "    <tr>\n",
       "      <th>199997</th>\n",
       "      <td>16235.408</td>\n",
       "      <td>0.00000</td>\n",
       "      <td>29.88357</td>\n",
       "      <td>0.0</td>\n",
       "    </tr>\n",
       "  </tbody>\n",
       "</table>\n",
       "<p>199998 rows × 4 columns</p>\n",
       "</div>"
      ],
      "text/plain": [
       "              t_2  amper_per_hour_2    volt_2  grad_2\n",
       "0       11641.094          48.85065  29.23742   -19.2\n",
       "1       11641.115          48.85065   0.00000     0.0\n",
       "2       11641.136           0.00000  29.28713     0.0\n",
       "3       11641.157          48.33133   0.00000     0.0\n",
       "4       11641.178           0.00000  29.73446     0.0\n",
       "...           ...               ...       ...     ...\n",
       "199993  16235.323           0.00000  30.13209     0.0\n",
       "199994  16235.344          51.70690   0.00000     0.0\n",
       "199995  16235.365           0.00000  29.83387     0.0\n",
       "199996  16235.387          51.70690   0.00000    26.1\n",
       "199997  16235.408           0.00000  29.88357     0.0\n",
       "\n",
       "[199998 rows x 4 columns]"
      ]
     },
     "execution_count": 36,
     "metadata": {},
     "output_type": "execute_result"
    }
   ],
   "source": [
    "data_2['amper_per_hour_2'][0] = 48.85065\n",
    "data_2['grad_2'][0] = -19.2\n",
    "\n",
    "data_2"
   ]
  },
  {
   "cell_type": "code",
   "execution_count": 37,
   "metadata": {},
   "outputs": [],
   "source": [
    "for index, row in enumerate(data_2['volt_2']):\n",
    "    if row == 0:\n",
    "        data_2['volt_2'][index] = data_2['volt_2'][index-1]"
   ]
  },
  {
   "cell_type": "code",
   "execution_count": 38,
   "metadata": {},
   "outputs": [],
   "source": [
    "for index, row in enumerate(data_2['amper_per_hour_2']):\n",
    "    if row == 0:\n",
    "        data_2['amper_per_hour_2'][index] = data_2['amper_per_hour_2'][index-1]"
   ]
  },
  {
   "cell_type": "code",
   "execution_count": 39,
   "metadata": {},
   "outputs": [],
   "source": [
    "for index, row in enumerate(data_2['grad_2']):\n",
    "    if row == 0:\n",
    "        data_2['grad_2'][index] = data_2['grad_2'][index-1]"
   ]
  },
  {
   "cell_type": "code",
   "execution_count": 40,
   "metadata": {},
   "outputs": [
    {
     "data": {
      "text/html": [
       "<div>\n",
       "<style scoped>\n",
       "    .dataframe tbody tr th:only-of-type {\n",
       "        vertical-align: middle;\n",
       "    }\n",
       "\n",
       "    .dataframe tbody tr th {\n",
       "        vertical-align: top;\n",
       "    }\n",
       "\n",
       "    .dataframe thead th {\n",
       "        text-align: right;\n",
       "    }\n",
       "</style>\n",
       "<table border=\"1\" class=\"dataframe\">\n",
       "  <thead>\n",
       "    <tr style=\"text-align: right;\">\n",
       "      <th></th>\n",
       "      <th>t_2</th>\n",
       "      <th>amper_per_hour_2</th>\n",
       "      <th>volt_2</th>\n",
       "      <th>grad_2</th>\n",
       "    </tr>\n",
       "  </thead>\n",
       "  <tbody>\n",
       "    <tr>\n",
       "      <th>0</th>\n",
       "      <td>11641.094</td>\n",
       "      <td>48.85065</td>\n",
       "      <td>29.23742</td>\n",
       "      <td>-19.2</td>\n",
       "    </tr>\n",
       "    <tr>\n",
       "      <th>1</th>\n",
       "      <td>11641.115</td>\n",
       "      <td>48.85065</td>\n",
       "      <td>29.23742</td>\n",
       "      <td>-19.2</td>\n",
       "    </tr>\n",
       "    <tr>\n",
       "      <th>2</th>\n",
       "      <td>11641.136</td>\n",
       "      <td>48.85065</td>\n",
       "      <td>29.28713</td>\n",
       "      <td>-19.2</td>\n",
       "    </tr>\n",
       "    <tr>\n",
       "      <th>3</th>\n",
       "      <td>11641.157</td>\n",
       "      <td>48.33133</td>\n",
       "      <td>29.28713</td>\n",
       "      <td>-19.2</td>\n",
       "    </tr>\n",
       "    <tr>\n",
       "      <th>4</th>\n",
       "      <td>11641.178</td>\n",
       "      <td>48.33133</td>\n",
       "      <td>29.73446</td>\n",
       "      <td>-19.2</td>\n",
       "    </tr>\n",
       "    <tr>\n",
       "      <th>...</th>\n",
       "      <td>...</td>\n",
       "      <td>...</td>\n",
       "      <td>...</td>\n",
       "      <td>...</td>\n",
       "    </tr>\n",
       "    <tr>\n",
       "      <th>199993</th>\n",
       "      <td>16235.323</td>\n",
       "      <td>52.48587</td>\n",
       "      <td>30.13209</td>\n",
       "      <td>27.0</td>\n",
       "    </tr>\n",
       "    <tr>\n",
       "      <th>199994</th>\n",
       "      <td>16235.344</td>\n",
       "      <td>51.70690</td>\n",
       "      <td>30.13209</td>\n",
       "      <td>27.0</td>\n",
       "    </tr>\n",
       "    <tr>\n",
       "      <th>199995</th>\n",
       "      <td>16235.365</td>\n",
       "      <td>51.70690</td>\n",
       "      <td>29.83387</td>\n",
       "      <td>27.0</td>\n",
       "    </tr>\n",
       "    <tr>\n",
       "      <th>199996</th>\n",
       "      <td>16235.387</td>\n",
       "      <td>51.70690</td>\n",
       "      <td>29.83387</td>\n",
       "      <td>26.1</td>\n",
       "    </tr>\n",
       "    <tr>\n",
       "      <th>199997</th>\n",
       "      <td>16235.408</td>\n",
       "      <td>51.70690</td>\n",
       "      <td>29.88357</td>\n",
       "      <td>26.1</td>\n",
       "    </tr>\n",
       "  </tbody>\n",
       "</table>\n",
       "<p>199998 rows × 4 columns</p>\n",
       "</div>"
      ],
      "text/plain": [
       "              t_2  amper_per_hour_2    volt_2  grad_2\n",
       "0       11641.094          48.85065  29.23742   -19.2\n",
       "1       11641.115          48.85065  29.23742   -19.2\n",
       "2       11641.136          48.85065  29.28713   -19.2\n",
       "3       11641.157          48.33133  29.28713   -19.2\n",
       "4       11641.178          48.33133  29.73446   -19.2\n",
       "...           ...               ...       ...     ...\n",
       "199993  16235.323          52.48587  30.13209    27.0\n",
       "199994  16235.344          51.70690  30.13209    27.0\n",
       "199995  16235.365          51.70690  29.83387    27.0\n",
       "199996  16235.387          51.70690  29.83387    26.1\n",
       "199997  16235.408          51.70690  29.88357    26.1\n",
       "\n",
       "[199998 rows x 4 columns]"
      ]
     },
     "execution_count": 40,
     "metadata": {},
     "output_type": "execute_result"
    }
   ],
   "source": [
    "x_2 = data_2['t_2'] \n",
    "\n",
    "y_amper_2 = data_2['amper_per_hour_2']\n",
    "y_volt_2 = data_2['volt_2']\n",
    "y_grad_2 = data_2['grad_2']\n",
    "\n",
    "data_2"
   ]
  },
  {
   "cell_type": "code",
   "execution_count": 172,
   "metadata": {},
   "outputs": [],
   "source": [
    "data_2 = data_2.drop(data_2[data_2['amper_per_hour_2'] < 40].index)\n",
    "\n",
    "data_2 = data_2.drop(data_2[data_2['volt_2'] > 32.5].index)\n"
   ]
  },
  {
   "cell_type": "code",
   "execution_count": 194,
   "metadata": {},
   "outputs": [
    {
     "data": {
      "text/html": [
       "<div>\n",
       "<style scoped>\n",
       "    .dataframe tbody tr th:only-of-type {\n",
       "        vertical-align: middle;\n",
       "    }\n",
       "\n",
       "    .dataframe tbody tr th {\n",
       "        vertical-align: top;\n",
       "    }\n",
       "\n",
       "    .dataframe thead th {\n",
       "        text-align: right;\n",
       "    }\n",
       "</style>\n",
       "<table border=\"1\" class=\"dataframe\">\n",
       "  <thead>\n",
       "    <tr style=\"text-align: right;\">\n",
       "      <th></th>\n",
       "      <th>t_2</th>\n",
       "      <th>amper_per_hour_2</th>\n",
       "      <th>volt_2</th>\n",
       "      <th>grad_2</th>\n",
       "    </tr>\n",
       "  </thead>\n",
       "  <tbody>\n",
       "    <tr>\n",
       "      <th>0</th>\n",
       "      <td>11641.094</td>\n",
       "      <td>48.85065</td>\n",
       "      <td>29.23742</td>\n",
       "      <td>-19.2</td>\n",
       "    </tr>\n",
       "    <tr>\n",
       "      <th>1</th>\n",
       "      <td>11641.115</td>\n",
       "      <td>48.85065</td>\n",
       "      <td>29.23742</td>\n",
       "      <td>-19.2</td>\n",
       "    </tr>\n",
       "    <tr>\n",
       "      <th>2</th>\n",
       "      <td>11641.136</td>\n",
       "      <td>48.85065</td>\n",
       "      <td>29.28713</td>\n",
       "      <td>-19.2</td>\n",
       "    </tr>\n",
       "    <tr>\n",
       "      <th>3</th>\n",
       "      <td>11641.157</td>\n",
       "      <td>48.33133</td>\n",
       "      <td>29.28713</td>\n",
       "      <td>-19.2</td>\n",
       "    </tr>\n",
       "    <tr>\n",
       "      <th>4</th>\n",
       "      <td>11641.178</td>\n",
       "      <td>48.33133</td>\n",
       "      <td>29.73446</td>\n",
       "      <td>-19.2</td>\n",
       "    </tr>\n",
       "    <tr>\n",
       "      <th>...</th>\n",
       "      <td>...</td>\n",
       "      <td>...</td>\n",
       "      <td>...</td>\n",
       "      <td>...</td>\n",
       "    </tr>\n",
       "    <tr>\n",
       "      <th>199993</th>\n",
       "      <td>16235.323</td>\n",
       "      <td>52.48587</td>\n",
       "      <td>30.13209</td>\n",
       "      <td>27.0</td>\n",
       "    </tr>\n",
       "    <tr>\n",
       "      <th>199994</th>\n",
       "      <td>16235.344</td>\n",
       "      <td>51.70690</td>\n",
       "      <td>30.13209</td>\n",
       "      <td>27.0</td>\n",
       "    </tr>\n",
       "    <tr>\n",
       "      <th>199995</th>\n",
       "      <td>16235.365</td>\n",
       "      <td>51.70690</td>\n",
       "      <td>29.83387</td>\n",
       "      <td>27.0</td>\n",
       "    </tr>\n",
       "    <tr>\n",
       "      <th>199996</th>\n",
       "      <td>16235.387</td>\n",
       "      <td>51.70690</td>\n",
       "      <td>29.83387</td>\n",
       "      <td>26.1</td>\n",
       "    </tr>\n",
       "    <tr>\n",
       "      <th>199997</th>\n",
       "      <td>16235.408</td>\n",
       "      <td>51.70690</td>\n",
       "      <td>29.88357</td>\n",
       "      <td>26.1</td>\n",
       "    </tr>\n",
       "  </tbody>\n",
       "</table>\n",
       "<p>199993 rows × 4 columns</p>\n",
       "</div>"
      ],
      "text/plain": [
       "              t_2  amper_per_hour_2    volt_2  grad_2\n",
       "0       11641.094          48.85065  29.23742   -19.2\n",
       "1       11641.115          48.85065  29.23742   -19.2\n",
       "2       11641.136          48.85065  29.28713   -19.2\n",
       "3       11641.157          48.33133  29.28713   -19.2\n",
       "4       11641.178          48.33133  29.73446   -19.2\n",
       "...           ...               ...       ...     ...\n",
       "199993  16235.323          52.48587  30.13209    27.0\n",
       "199994  16235.344          51.70690  30.13209    27.0\n",
       "199995  16235.365          51.70690  29.83387    27.0\n",
       "199996  16235.387          51.70690  29.83387    26.1\n",
       "199997  16235.408          51.70690  29.88357    26.1\n",
       "\n",
       "[199993 rows x 4 columns]"
      ]
     },
     "execution_count": 194,
     "metadata": {},
     "output_type": "execute_result"
    }
   ],
   "source": [
    "data_2 = data_2.drop(data_2[data_2['volt_2'] <1].index)\n",
    "data_2"
   ]
  },
  {
   "cell_type": "markdown",
   "metadata": {},
   "source": [
    "# Рассмотрим ампер_2"
   ]
  },
  {
   "cell_type": "code",
   "execution_count": 41,
   "metadata": {},
   "outputs": [],
   "source": [
    "x_2 = x_2.to_numpy()\n",
    "x_2 = x_2.reshape(-1, 1)"
   ]
  },
  {
   "cell_type": "code",
   "execution_count": 42,
   "metadata": {},
   "outputs": [],
   "source": [
    "import seaborn as sns\n",
    "from sklearn.linear_model import Ridge\n",
    "from sklearn.preprocessing import PolynomialFeatures\n",
    "from sklearn.pipeline import make_pipeline\n",
    "from sklearn.linear_model import LinearRegression"
   ]
  },
  {
   "cell_type": "code",
   "execution_count": 602,
   "metadata": {},
   "outputs": [
    {
     "data": {
      "text/plain": [
       "Pipeline(steps=[('polynomialfeatures', PolynomialFeatures(degree=4)),\n",
       "                ('linearregression', LinearRegression())])"
      ]
     },
     "execution_count": 602,
     "metadata": {},
     "output_type": "execute_result"
    }
   ],
   "source": [
    "model_amper_2 = make_pipeline(PolynomialFeatures(4), LinearRegression())\n",
    "model_amper_2.fit(x_2,y_amper_2)"
   ]
  },
  {
   "cell_type": "code",
   "execution_count": 43,
   "metadata": {},
   "outputs": [],
   "source": [
    "amper_predicts_2 = model_amper.predict(x_2)"
   ]
  },
  {
   "cell_type": "code",
   "execution_count": 44,
   "metadata": {},
   "outputs": [],
   "source": [
    "data_2.drop(data_2.tail(10).index,inplace=True)"
   ]
  },
  {
   "cell_type": "code",
   "execution_count": 605,
   "metadata": {},
   "outputs": [
    {
     "name": "stdout",
     "output_type": "stream",
     "text": [
      "Test r2:  0.9440303718695366\n",
      "Test MSE:  0.40411960683550596\n",
      "Test MAE:  0.5176402376813374\n"
     ]
    }
   ],
   "source": [
    "from sklearn.metrics import mean_squared_error, mean_absolute_error, r2_score\n",
    "\n",
    "print('Test r2: ', r2_score(y_amper_2, amper_predicts_2))\n",
    "\n",
    "#print('Train MSE: ', mean_squared_error(y_train, y_train_prediction))\n",
    "print('Test MSE: ', mean_squared_error(y_amper_2, amper_predicts_2))\n",
    "\n",
    "#print('Train MAE: ', mean_absolute_error(y_train, y_train_prediction))\n",
    "print('Test MAE: ', mean_absolute_error(y_amper_2, amper_predicts_2))"
   ]
  },
  {
   "cell_type": "code",
   "execution_count": 606,
   "metadata": {},
   "outputs": [
    {
     "data": {
      "text/plain": [
       "[<matplotlib.lines.Line2D at 0x20a9b732100>]"
      ]
     },
     "execution_count": 606,
     "metadata": {},
     "output_type": "execute_result"
    },
    {
     "data": {
      "image/png": "[encoded data removed]",
      "text/plain": [
       "<Figure size 432x288 with 1 Axes>"
      ]
     },
     "metadata": {},
     "output_type": "display_data"
    }
   ],
   "source": [
    "from matplotlib import pyplot as plt\n",
    "plt.plot(x_2, y_amper_2)"
   ]
  },
  {
   "cell_type": "code",
   "execution_count": 46,
   "metadata": {},
   "outputs": [
    {
     "data": {
      "text/plain": [
       "[<matplotlib.lines.Line2D at 0x29be87491c0>]"
      ]
     },
     "execution_count": 46,
     "metadata": {},
     "output_type": "execute_result"
    },
    {
     "data": {
      "image/png": "[encoded data removed]",
      "text/plain": [
       "<Figure size 432x288 with 1 Axes>"
      ]
     },
     "metadata": {},
     "output_type": "display_data"
    }
   ],
   "source": [
    "#plt.plot(x_2, y_amper_2)\n",
    "plt.plot(x_2, amper_predicts_2)"
   ]
  },
  {
   "cell_type": "markdown",
   "metadata": {},
   "source": [
    "# Рассмотрим вольт_2"
   ]
  },
  {
   "cell_type": "code",
   "execution_count": 611,
   "metadata": {},
   "outputs": [
    {
     "data": {
      "text/plain": [
       "Pipeline(steps=[('polynomialfeatures', PolynomialFeatures(degree=3)),\n",
       "                ('linearregression', LinearRegression())])"
      ]
     },
     "execution_count": 611,
     "metadata": {},
     "output_type": "execute_result"
    }
   ],
   "source": [
    "model_volt_2 = make_pipeline(PolynomialFeatures(3), LinearRegression())\n",
    "model_volt_2.fit(x_2,y_volt_2)"
   ]
  },
  {
   "cell_type": "code",
   "execution_count": 48,
   "metadata": {},
   "outputs": [],
   "source": [
    "volt_predicts_2 = model_volt.predict(x_2)"
   ]
  },
  {
   "cell_type": "code",
   "execution_count": 613,
   "metadata": {},
   "outputs": [
    {
     "name": "stdout",
     "output_type": "stream",
     "text": [
      "Test r2:  0.6565509399769054\n",
      "Test MSE:  0.1469116530897429\n",
      "Test MAE:  0.2898141584978243\n"
     ]
    }
   ],
   "source": [
    "from sklearn.metrics import mean_squared_error, mean_absolute_error, r2_score\n",
    "\n",
    "print('Test r2: ', r2_score(y_volt_2, volt_predicts_2))\n",
    "\n",
    "#print('Train MSE: ', mean_squared_error(y_train, y_train_prediction))\n",
    "print('Test MSE: ', mean_squared_error(y_volt_2, volt_predicts_2))\n",
    "\n",
    "#print('Train MAE: ', mean_absolute_error(y_train, y_train_prediction))\n",
    "print('Test MAE: ', mean_absolute_error(y_volt_2, volt_predicts_2))"
   ]
  },
  {
   "cell_type": "code",
   "execution_count": 49,
   "metadata": {},
   "outputs": [
    {
     "data": {
      "text/plain": [
       "[<matplotlib.lines.Line2D at 0x29be88013d0>]"
      ]
     },
     "execution_count": 49,
     "metadata": {},
     "output_type": "execute_result"
    },
    {
     "data": {
      "image/png": "[encoded data removed]",
      "text/plain": [
       "<Figure size 432x288 with 1 Axes>"
      ]
     },
     "metadata": {},
     "output_type": "display_data"
    }
   ],
   "source": [
    "plt.plot(x_2, y_volt_2)"
   ]
  },
  {
   "cell_type": "code",
   "execution_count": 51,
   "metadata": {},
   "outputs": [
    {
     "data": {
      "text/plain": [
       "[<matplotlib.lines.Line2D at 0x29be9b1e670>]"
      ]
     },
     "execution_count": 51,
     "metadata": {},
     "output_type": "execute_result"
    },
    {
     "data": {
      "image/png": "[encoded data removed]",
      "text/plain": [
       "<Figure size 432x288 with 1 Axes>"
      ]
     },
     "metadata": {},
     "output_type": "display_data"
    }
   ],
   "source": [
    "#plt.plot(x_2, y_volt_2)\n",
    "plt.plot(x_2, volt_predicts_2)"
   ]
  },
  {
   "cell_type": "markdown",
   "metadata": {},
   "source": [
    "# Рассмотрим градусы_2"
   ]
  },
  {
   "cell_type": "code",
   "execution_count": 512,
   "metadata": {},
   "outputs": [
    {
     "data": {
      "text/plain": [
       "Pipeline(steps=[('polynomialfeatures', PolynomialFeatures(degree=3)),\n",
       "                ('linearregression', LinearRegression())])"
      ]
     },
     "execution_count": 512,
     "metadata": {},
     "output_type": "execute_result"
    }
   ],
   "source": [
    "model_grad_2 = make_pipeline(PolynomialFeatures(3), LinearRegression())\n",
    "model_grad_2.fit(x_2,y_grad_2)"
   ]
  },
  {
   "cell_type": "code",
   "execution_count": 52,
   "metadata": {},
   "outputs": [],
   "source": [
    "grad_predicts_2 = model_grad.predict(x_2)"
   ]
  },
  {
   "cell_type": "code",
   "execution_count": 513,
   "metadata": {},
   "outputs": [
    {
     "name": "stdout",
     "output_type": "stream",
     "text": [
      "Test r2:  0.8836252861499398\n",
      "Test MSE:  185.83049021112552\n",
      "Test MAE:  10.072048815843406\n"
     ]
    }
   ],
   "source": [
    "grad_predicts_2 = model_grad_2.predict(x_2)\n",
    "\n",
    "from sklearn.metrics import mean_squared_error, mean_absolute_error, r2_score\n",
    "\n",
    "print('Test r2: ', r2_score(y_grad_2, grad_predicts_2))\n",
    "\n",
    "#print('Train MSE: ', mean_squared_error(y_train, y_train_prediction))\n",
    "print('Test MSE: ', mean_squared_error(y_grad_2, grad_predicts_2))\n",
    "\n",
    "#print('Train MAE: ', mean_absolute_error(y_train, y_train_prediction))\n",
    "print('Test MAE: ', mean_absolute_error(y_grad_2, grad_predicts_2))"
   ]
  },
  {
   "cell_type": "code",
   "execution_count": 53,
   "metadata": {},
   "outputs": [
    {
     "data": {
      "text/plain": [
       "[<matplotlib.lines.Line2D at 0x29be9b6f6d0>]"
      ]
     },
     "execution_count": 53,
     "metadata": {},
     "output_type": "execute_result"
    },
    {
     "data": {
      "image/png": "[encoded data removed]",
      "text/plain": [
       "<Figure size 432x288 with 1 Axes>"
      ]
     },
     "metadata": {},
     "output_type": "display_data"
    }
   ],
   "source": [
    "plt.plot(x_2, y_grad_2)"
   ]
  },
  {
   "cell_type": "code",
   "execution_count": 54,
   "metadata": {},
   "outputs": [
    {
     "data": {
      "text/plain": [
       "[<matplotlib.lines.Line2D at 0x29be9bbbfa0>]"
      ]
     },
     "execution_count": 54,
     "metadata": {},
     "output_type": "execute_result"
    },
    {
     "data": {
      "image/png": "[encoded data removed]",
      "text/plain": [
       "<Figure size 432x288 with 1 Axes>"
      ]
     },
     "metadata": {},
     "output_type": "display_data"
    }
   ],
   "source": [
    "plt.plot(x_2, y_grad_2)\n",
    "plt.plot(x_2, grad_predicts_2)"
   ]
  },
  {
   "cell_type": "code",
   "execution_count": null,
   "metadata": {},
   "outputs": [],
   "source": []
  }
 ],
 "metadata": {
  "kernelspec": {
   "display_name": "Python 3",
   "language": "python",
   "name": "python3"
  },
  "language_info": {
   "codemirror_mode": {
    "name": "ipython",
    "version": 3
   },
   "file_extension": ".py",
   "mimetype": "text/x-python",
   "name": "python",
   "nbconvert_exporter": "python",
   "pygments_lexer": "ipython3",
   "version": "3.8.5"
  }
 },
 "nbformat": 4,
 "nbformat_minor": 4
}
